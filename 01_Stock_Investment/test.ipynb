{
 "cells": [
  {
   "cell_type": "markdown",
   "id": "2555484c",
   "metadata": {},
   "source": [
    "pandas를 이용할 때 가장 기본적인 새로운 행과 열을 삽입하는 방법에 대해서 배워보겠습니다."
   ]
  },
  {
   "cell_type": "code",
   "execution_count": 8,
   "id": "d7d295d4",
   "metadata": {},
   "outputs": [
    {
     "name": "stdout",
     "output_type": "stream",
     "text": [
      "   A  B  C  D  colAdd\n",
      "0 -4 -3 -2 -1       0\n",
      "1  1  2  3  4     100\n",
      "2  5  6  7  8     200\n"
     ]
    }
   ],
   "source": [
    "import pandas as pd\n",
    "\n",
    "data = [[-4, -3, -2, -1],[1,2,3,4]]\n",
    "data2 = [5,6,7,8]\n",
    "data3 = [9,10,11,12]\n",
    "\n",
    "#list 이용하기\n",
    "data_list = []\n",
    "data_list.append(data)\n",
    "# print(data_list)\n",
    "\n",
    "data_list.append(data2)\n",
    "# print(data_list)\n",
    "\n",
    "data_list.insert(0,data3)\n",
    "# print(data_list)\n",
    "\n",
    "\n",
    "df = pd.DataFrame(data, columns=['A','B','C','D'])\n",
    "# print(df)\n",
    "\n",
    "temp_df = pd.DataFrame([data2],columns=['A','B','C','D'])\n",
    "df = pd.concat([df,temp_df]).reset_index(drop=True)\n",
    "# print(df)\n",
    "\n",
    "#pandas 새로운 column 추가하기\n",
    "sz = len(df)\n",
    "data2 = [i * 100 for i in range(sz)]\n",
    "# i*100을 채우기\n",
    "# for i in range(sz)가 완료할때까지\n",
    "temp = pd.Series(data2, name='colAdd')\n",
    "df = df.join(temp)\n",
    "# print(df)"
   ]
  },
  {
   "cell_type": "markdown",
   "id": "6dfdb115",
   "metadata": {},
   "source": [
    "pandas 정렬과 index 갱신하는 방법"
   ]
  },
  {
   "cell_type": "code",
   "execution_count": 17,
   "id": "0351b0ac",
   "metadata": {},
   "outputs": [
    {
     "name": "stdout",
     "output_type": "stream",
     "text": [
      "data:  [[12000, 11590, 13110, 14000], [20151015, 20151015, 20151014, 20151014], [1000, 901, 902, 1400]] \n",
      "\n",
      "\n",
      "transposed data: \n",
      " [[   12000 20151015     1000]\n",
      " [   11590 20151015      901]\n",
      " [   13110 20151014      902]\n",
      " [   14000 20151014     1400]] \n",
      "\n",
      "\n",
      "DataFrame: \n",
      "    Close      Date  Time\n",
      "0  12000  20151015  1000\n",
      "1  11590  20151015   901\n",
      "2  13110  20151014   902\n",
      "3  14000  20151014  1400 \n",
      "\n",
      "\n",
      "sorted data: \n",
      "    Close      Date  Time\n",
      "2  13110  20151014   902\n",
      "3  14000  20151014  1400\n",
      "1  11590  20151015   901\n",
      "0  12000  20151015  1000 \n",
      "\n",
      "\n",
      "re indexed data: \n",
      "    Close      Date  Time\n",
      "0  13110  20151014   902\n",
      "1  14000  20151014  1400\n",
      "2  11590  20151015   901\n",
      "3  12000  20151015  1000\n"
     ]
    }
   ],
   "source": [
    "import pandas as pd\n",
    "import numpy as np\n",
    "\n",
    "data1 = [12000,11590, 13110, 14000]\n",
    "data2 = [20151015,20151015,20151014,20151014]\n",
    "data3 = [1000,901,902,1400]\n",
    "data = [data1,data2,data3]\n",
    "print('data: ', data,'\\n\\n')\n",
    "\n",
    "newData = np.transpose(data)\n",
    "print('transposed data: \\n', newData,'\\n\\n')\n",
    "\n",
    "df = pd.DataFrame(newData, columns=['Close','Date','Time'])\n",
    "print('DataFrame: \\n',df,'\\n\\n')\n",
    "\n",
    "df = df.sort_values(['Date','Time'],ascending=[True,True])\n",
    "print('sorted data: \\n', df,'\\n\\n')\n",
    "\n",
    "df = df.reset_index(drop=True)\n",
    "print('re indexed data: \\n', df)"
   ]
  },
  {
   "cell_type": "code",
   "execution_count": 20,
   "id": "1b0dc6d4",
   "metadata": {},
   "outputs": [
    {
     "name": "stdout",
     "output_type": "stream",
     "text": [
      "           A         B\n",
      "0  -1.662612  0.040898\n",
      "3  -0.069007  0.114094\n",
      "6   1.076389  0.391915\n",
      "9   0.094702 -0.170226\n",
      "12  0.398801  0.852634\n",
      "15  1.137965  0.672560\n",
      "18  0.505033  1.769586\n",
      "A    1.076389\n",
      "B    0.391915\n",
      "Name: 6, dtype: float64\n",
      "A    0.505033\n",
      "B    1.769586\n",
      "Name: 18, dtype: float64\n"
     ]
    }
   ],
   "source": [
    "#pandas indexing\n",
    "import pandas as pd\n",
    "import numpy as np\n",
    "df = pd.DataFrame(np.random.randn(7,2), index=range(0,21,3),columns=list(['A','B']))\n",
    "\n",
    "print(df)\n",
    "print(df.loc[6])\n",
    "print(df.iloc[6])"
   ]
  },
  {
   "cell_type": "code",
   "execution_count": 22,
   "id": "07555207",
   "metadata": {},
   "outputs": [
    {
     "name": "stdout",
     "output_type": "stream",
     "text": [
      "   kospi     kosdaq    \n",
      "   price qty  price qty\n",
      "5월     0   1      2   3\n",
      "6월     4   5      6   7\n",
      "7월     8   9     10  11\n",
      "8월    12  13     14  15\n"
     ]
    }
   ],
   "source": [
    "df = pd.DataFrame(np.arange(16).reshape(4,4), index=['5월','6월','7월','8월'],columns=[['kospi','kospi','kosdaq','kosdaq'],['price','qty','price','qty']])\n",
    "print(df)"
   ]
  }
 ],
 "metadata": {
  "kernelspec": {
   "display_name": "Python 3 (ipykernel)",
   "language": "python",
   "name": "python3"
  },
  "language_info": {
   "codemirror_mode": {
    "name": "ipython",
    "version": 3
   },
   "file_extension": ".py",
   "mimetype": "text/x-python",
   "name": "python",
   "nbconvert_exporter": "python",
   "pygments_lexer": "ipython3",
   "version": "3.9.12"
  }
 },
 "nbformat": 4,
 "nbformat_minor": 5
}
