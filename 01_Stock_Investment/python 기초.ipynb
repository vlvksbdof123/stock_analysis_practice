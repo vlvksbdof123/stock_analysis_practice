{
 "cells": [
  {
   "cell_type": "markdown",
   "id": "167fc069",
   "metadata": {},
   "source": [
    "##### 리스트 인덱싱 기초\n",
    "처음 값은 0부터 인식합니다.\n",
    "뒤부터 가져오려면, myList[-1] 형태를 이용할 수 있습니다.\n",
    "부분을 가져오려면 슬라이싱을 이용해서 myList[1:3] 형태로 가져올 수 있습니다.\n",
    "파이썬에서는 ',\"를 둘 다 같은 의미입니다.\n",
    "어떤 것을 사용해도 무방합니다."
   ]
  },
  {
   "cell_type": "code",
   "execution_count": 4,
   "id": "cd877c8e",
   "metadata": {},
   "outputs": [
    {
     "name": "stdout",
     "output_type": "stream",
     "text": [
      "출력값 :  [0, 'a', 'b', 'c', 'd', 'e', 'f', 12, 24, 'G^^G']\n",
      "처음값 :  0\n",
      "특정값 :  e\n",
      "뒤부터 인식하기 :  G^^G\n",
      "슬라이싱 :  ['a', 'b']\n"
     ]
    }
   ],
   "source": [
    "myList = [0,\"a\",\"b\",\"c\",\"d\",\"e\",\"f\",12,24,\"G^^G\"]\n",
    "print(\"출력값 : \",myList)\n",
    "print(\"처음값 : \",myList[0])\n",
    "print(\"특정값 : \",myList[5])\n",
    "print(\"뒤부터 인식하기 : \",myList[-1])\n",
    "print(\"슬라이싱 : \",myList[1:3])"
   ]
  },
  {
   "cell_type": "markdown",
   "id": "de57c549",
   "metadata": {},
   "source": [
    "#### 혼재되어있는 리스트에서 type별로 분류하기"
   ]
  },
  {
   "cell_type": "code",
   "execution_count": 6,
   "id": "c86a458e",
   "metadata": {},
   "outputs": [
    {
     "name": "stdout",
     "output_type": "stream",
     "text": [
      "['a', 'b', 'c', 'd', 'e', 'f', 'G^^G']\n",
      "[0, 12, 24]\n",
      "[0, 12, 24]\n"
     ]
    }
   ],
   "source": [
    "from collections import defaultdict\n",
    "my_list = [0,\"a\",\"b\",\"c\",\"d\",\"e\",\"f\",12,24,\"G^^G\"]\n",
    "data = defaultdict(list)\n",
    "for x in my_list:\n",
    "    data[type(x)].append(x)\n",
    "\n",
    "print(data[str])\n",
    "print(data[int])\n",
    "\n",
    "my_list_int = [x for x in my_list if isinstance(x, int)]\n",
    "print(my_list_int)"
   ]
  },
  {
   "cell_type": "markdown",
   "id": "ae8d4a22",
   "metadata": {},
   "source": [
    "Numpy 기초\n",
    "numpy에서 array를 복사하려면 copy 명령어를 사용해야합니다. 그렇지 않으면 값이 같이 변경됩니다.\n",
    "\n",
    "reshape_mat=raw.reshape((2,2)) 을 reshape_mat=raw.reshape((2,2)).copy()\n",
    "\n",
    "로 변경하면, 새로운 객체로 복사가 됩니다."
   ]
  },
  {
   "cell_type": "code",
   "execution_count": 8,
   "id": "316b2468",
   "metadata": {},
   "outputs": [
    {
     "name": "stdout",
     "output_type": "stream",
     "text": [
      "reshape_mat: \n",
      " [[0 1]\n",
      " [2 3]]\n",
      "reshape_mat[1][1]: \n",
      " 3\n",
      "reshape_mat: \n",
      " [[ 0  1]\n",
      " [ 2 99]]\n",
      "raw:  [ 0  1  2 99]\n",
      "[False False  True  True]\n",
      "[ 2 99]\n"
     ]
    }
   ],
   "source": [
    "import numpy as np\n",
    "raw = np.array([0,1,2,3])\n",
    "reshape_mat=raw.reshape((2,2))\n",
    "print('reshape_mat: \\n',reshape_mat)\n",
    "print('reshape_mat[1][1]: \\n',reshape_mat[1][1])\n",
    "\n",
    "reshape_mat[1][1] = 99\n",
    "print('reshape_mat: \\n',reshape_mat)\n",
    "print('raw: ',raw)\n",
    "\n",
    "# 특정값 출력하기\n",
    "\n",
    "print(raw > 1)\n",
    "print(raw[raw > 1])"
   ]
  }
 ],
 "metadata": {
  "kernelspec": {
   "display_name": "Python 3 (ipykernel)",
   "language": "python",
   "name": "python3"
  },
  "language_info": {
   "codemirror_mode": {
    "name": "ipython",
    "version": 3
   },
   "file_extension": ".py",
   "mimetype": "text/x-python",
   "name": "python",
   "nbconvert_exporter": "python",
   "pygments_lexer": "ipython3",
   "version": "3.9.12"
  }
 },
 "nbformat": 4,
 "nbformat_minor": 5
}
